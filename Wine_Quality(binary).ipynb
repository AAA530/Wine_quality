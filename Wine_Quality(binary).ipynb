{
  "nbformat": 4,
  "nbformat_minor": 0,
  "metadata": {
    "colab": {
      "name": "Wine_Quality(binary).ipynb",
      "provenance": []
    },
    "kernelspec": {
      "name": "python3",
      "display_name": "Python 3"
    }
  },
  "cells": [
    {
      "cell_type": "code",
      "metadata": {
        "id": "hj0cp7k1pEh_",
        "colab_type": "code",
        "outputId": "6c4ebbab-5bad-40d9-ee70-8240f4a7ccda",
        "colab": {
          "base_uri": "https://localhost:8080/",
          "height": 122
        }
      },
      "source": [
        "from google.colab import drive\n",
        "drive.mount('/content/gdrive')"
      ],
      "execution_count": 0,
      "outputs": [
        {
          "output_type": "stream",
          "text": [
            "Go to this URL in a browser: https://accounts.google.com/o/oauth2/auth?client_id=947318989803-6bn6qk8qdgf4n4g3pfee6491hc0brc4i.apps.googleusercontent.com&redirect_uri=urn%3aietf%3awg%3aoauth%3a2.0%3aoob&response_type=code&scope=email%20https%3a%2f%2fwww.googleapis.com%2fauth%2fdocs.test%20https%3a%2f%2fwww.googleapis.com%2fauth%2fdrive%20https%3a%2f%2fwww.googleapis.com%2fauth%2fdrive.photos.readonly%20https%3a%2f%2fwww.googleapis.com%2fauth%2fpeopleapi.readonly\n",
            "\n",
            "Enter your authorization code:\n",
            "··········\n",
            "Mounted at /content/gdrive\n"
          ],
          "name": "stdout"
        }
      ]
    },
    {
      "cell_type": "code",
      "metadata": {
        "id": "k-WkRv-upa9b",
        "colab_type": "code",
        "outputId": "48efb7a6-feb6-4e40-a35c-58ce6d42cfc6",
        "colab": {
          "base_uri": "https://localhost:8080/",
          "height": 51
        }
      },
      "source": [
        "import os\n",
        "os.environ['KAGGLE_CONFIG_DIR'] = \"/content/gdrive/My Drive/Kaggle\"\n",
        "# /content/gdrive/My Drive/Kaggle is the path where kaggle.json is present in the Google Drive\n",
        "#changing the working directory\n",
        "%cd /content/gdrive/My Drive/Kaggle\n",
        "#Check the present working directory using pwd command\n",
        "%cd Wine"
      ],
      "execution_count": 0,
      "outputs": [
        {
          "output_type": "stream",
          "text": [
            "/content/gdrive/My Drive/Kaggle\n",
            "/content/gdrive/My Drive/Kaggle/Wine\n"
          ],
          "name": "stdout"
        }
      ]
    },
    {
      "cell_type": "code",
      "metadata": {
        "id": "4QPISRu-phlt",
        "colab_type": "code",
        "outputId": "a82a4609-f5d5-4b01-bde8-9ec1a386cc74",
        "colab": {
          "base_uri": "https://localhost:8080/",
          "height": 71
        }
      },
      "source": [
        "import numpy as np\n",
        "import pandas as pd\n",
        "import matplotlib.pyplot as plt\n",
        "import seaborn as sns"
      ],
      "execution_count": 0,
      "outputs": [
        {
          "output_type": "stream",
          "text": [
            "/usr/local/lib/python3.6/dist-packages/statsmodels/tools/_testing.py:19: FutureWarning: pandas.util.testing is deprecated. Use the functions in the public API at pandas.testing instead.\n",
            "  import pandas.util.testing as tm\n"
          ],
          "name": "stderr"
        }
      ]
    },
    {
      "cell_type": "code",
      "metadata": {
        "id": "dzbGAnWqplAO",
        "colab_type": "code",
        "outputId": "30786a5a-a31b-4bb5-8792-2a4ffbdb729c",
        "colab": {
          "base_uri": "https://localhost:8080/",
          "height": 204
        }
      },
      "source": [
        "data = pd.read_csv('winequality-red.csv')\n",
        "data.head()"
      ],
      "execution_count": 0,
      "outputs": [
        {
          "output_type": "execute_result",
          "data": {
            "text/html": [
              "<div>\n",
              "<style scoped>\n",
              "    .dataframe tbody tr th:only-of-type {\n",
              "        vertical-align: middle;\n",
              "    }\n",
              "\n",
              "    .dataframe tbody tr th {\n",
              "        vertical-align: top;\n",
              "    }\n",
              "\n",
              "    .dataframe thead th {\n",
              "        text-align: right;\n",
              "    }\n",
              "</style>\n",
              "<table border=\"1\" class=\"dataframe\">\n",
              "  <thead>\n",
              "    <tr style=\"text-align: right;\">\n",
              "      <th></th>\n",
              "      <th>fixed acidity</th>\n",
              "      <th>volatile acidity</th>\n",
              "      <th>citric acid</th>\n",
              "      <th>residual sugar</th>\n",
              "      <th>chlorides</th>\n",
              "      <th>free sulfur dioxide</th>\n",
              "      <th>total sulfur dioxide</th>\n",
              "      <th>density</th>\n",
              "      <th>pH</th>\n",
              "      <th>sulphates</th>\n",
              "      <th>alcohol</th>\n",
              "      <th>quality</th>\n",
              "    </tr>\n",
              "  </thead>\n",
              "  <tbody>\n",
              "    <tr>\n",
              "      <th>0</th>\n",
              "      <td>7.4</td>\n",
              "      <td>0.70</td>\n",
              "      <td>0.00</td>\n",
              "      <td>1.9</td>\n",
              "      <td>0.076</td>\n",
              "      <td>11.0</td>\n",
              "      <td>34.0</td>\n",
              "      <td>0.9978</td>\n",
              "      <td>3.51</td>\n",
              "      <td>0.56</td>\n",
              "      <td>9.4</td>\n",
              "      <td>5</td>\n",
              "    </tr>\n",
              "    <tr>\n",
              "      <th>1</th>\n",
              "      <td>7.8</td>\n",
              "      <td>0.88</td>\n",
              "      <td>0.00</td>\n",
              "      <td>2.6</td>\n",
              "      <td>0.098</td>\n",
              "      <td>25.0</td>\n",
              "      <td>67.0</td>\n",
              "      <td>0.9968</td>\n",
              "      <td>3.20</td>\n",
              "      <td>0.68</td>\n",
              "      <td>9.8</td>\n",
              "      <td>5</td>\n",
              "    </tr>\n",
              "    <tr>\n",
              "      <th>2</th>\n",
              "      <td>7.8</td>\n",
              "      <td>0.76</td>\n",
              "      <td>0.04</td>\n",
              "      <td>2.3</td>\n",
              "      <td>0.092</td>\n",
              "      <td>15.0</td>\n",
              "      <td>54.0</td>\n",
              "      <td>0.9970</td>\n",
              "      <td>3.26</td>\n",
              "      <td>0.65</td>\n",
              "      <td>9.8</td>\n",
              "      <td>5</td>\n",
              "    </tr>\n",
              "    <tr>\n",
              "      <th>3</th>\n",
              "      <td>11.2</td>\n",
              "      <td>0.28</td>\n",
              "      <td>0.56</td>\n",
              "      <td>1.9</td>\n",
              "      <td>0.075</td>\n",
              "      <td>17.0</td>\n",
              "      <td>60.0</td>\n",
              "      <td>0.9980</td>\n",
              "      <td>3.16</td>\n",
              "      <td>0.58</td>\n",
              "      <td>9.8</td>\n",
              "      <td>6</td>\n",
              "    </tr>\n",
              "    <tr>\n",
              "      <th>4</th>\n",
              "      <td>7.4</td>\n",
              "      <td>0.70</td>\n",
              "      <td>0.00</td>\n",
              "      <td>1.9</td>\n",
              "      <td>0.076</td>\n",
              "      <td>11.0</td>\n",
              "      <td>34.0</td>\n",
              "      <td>0.9978</td>\n",
              "      <td>3.51</td>\n",
              "      <td>0.56</td>\n",
              "      <td>9.4</td>\n",
              "      <td>5</td>\n",
              "    </tr>\n",
              "  </tbody>\n",
              "</table>\n",
              "</div>"
            ],
            "text/plain": [
              "   fixed acidity  volatile acidity  citric acid  ...  sulphates  alcohol  quality\n",
              "0            7.4              0.70         0.00  ...       0.56      9.4        5\n",
              "1            7.8              0.88         0.00  ...       0.68      9.8        5\n",
              "2            7.8              0.76         0.04  ...       0.65      9.8        5\n",
              "3           11.2              0.28         0.56  ...       0.58      9.8        6\n",
              "4            7.4              0.70         0.00  ...       0.56      9.4        5\n",
              "\n",
              "[5 rows x 12 columns]"
            ]
          },
          "metadata": {
            "tags": []
          },
          "execution_count": 4
        }
      ]
    },
    {
      "cell_type": "code",
      "metadata": {
        "id": "gF8CpDaippji",
        "colab_type": "code",
        "outputId": "0d7e5cfe-49a2-44b9-e700-a177f329a86d",
        "colab": {
          "base_uri": "https://localhost:8080/",
          "height": 204
        }
      },
      "source": [
        "X = data.drop('quality',axis=1)\n",
        "y = data['quality']\n",
        "X.head()"
      ],
      "execution_count": 0,
      "outputs": [
        {
          "output_type": "execute_result",
          "data": {
            "text/html": [
              "<div>\n",
              "<style scoped>\n",
              "    .dataframe tbody tr th:only-of-type {\n",
              "        vertical-align: middle;\n",
              "    }\n",
              "\n",
              "    .dataframe tbody tr th {\n",
              "        vertical-align: top;\n",
              "    }\n",
              "\n",
              "    .dataframe thead th {\n",
              "        text-align: right;\n",
              "    }\n",
              "</style>\n",
              "<table border=\"1\" class=\"dataframe\">\n",
              "  <thead>\n",
              "    <tr style=\"text-align: right;\">\n",
              "      <th></th>\n",
              "      <th>fixed acidity</th>\n",
              "      <th>volatile acidity</th>\n",
              "      <th>citric acid</th>\n",
              "      <th>residual sugar</th>\n",
              "      <th>chlorides</th>\n",
              "      <th>free sulfur dioxide</th>\n",
              "      <th>total sulfur dioxide</th>\n",
              "      <th>density</th>\n",
              "      <th>pH</th>\n",
              "      <th>sulphates</th>\n",
              "      <th>alcohol</th>\n",
              "    </tr>\n",
              "  </thead>\n",
              "  <tbody>\n",
              "    <tr>\n",
              "      <th>0</th>\n",
              "      <td>7.4</td>\n",
              "      <td>0.70</td>\n",
              "      <td>0.00</td>\n",
              "      <td>1.9</td>\n",
              "      <td>0.076</td>\n",
              "      <td>11.0</td>\n",
              "      <td>34.0</td>\n",
              "      <td>0.9978</td>\n",
              "      <td>3.51</td>\n",
              "      <td>0.56</td>\n",
              "      <td>9.4</td>\n",
              "    </tr>\n",
              "    <tr>\n",
              "      <th>1</th>\n",
              "      <td>7.8</td>\n",
              "      <td>0.88</td>\n",
              "      <td>0.00</td>\n",
              "      <td>2.6</td>\n",
              "      <td>0.098</td>\n",
              "      <td>25.0</td>\n",
              "      <td>67.0</td>\n",
              "      <td>0.9968</td>\n",
              "      <td>3.20</td>\n",
              "      <td>0.68</td>\n",
              "      <td>9.8</td>\n",
              "    </tr>\n",
              "    <tr>\n",
              "      <th>2</th>\n",
              "      <td>7.8</td>\n",
              "      <td>0.76</td>\n",
              "      <td>0.04</td>\n",
              "      <td>2.3</td>\n",
              "      <td>0.092</td>\n",
              "      <td>15.0</td>\n",
              "      <td>54.0</td>\n",
              "      <td>0.9970</td>\n",
              "      <td>3.26</td>\n",
              "      <td>0.65</td>\n",
              "      <td>9.8</td>\n",
              "    </tr>\n",
              "    <tr>\n",
              "      <th>3</th>\n",
              "      <td>11.2</td>\n",
              "      <td>0.28</td>\n",
              "      <td>0.56</td>\n",
              "      <td>1.9</td>\n",
              "      <td>0.075</td>\n",
              "      <td>17.0</td>\n",
              "      <td>60.0</td>\n",
              "      <td>0.9980</td>\n",
              "      <td>3.16</td>\n",
              "      <td>0.58</td>\n",
              "      <td>9.8</td>\n",
              "    </tr>\n",
              "    <tr>\n",
              "      <th>4</th>\n",
              "      <td>7.4</td>\n",
              "      <td>0.70</td>\n",
              "      <td>0.00</td>\n",
              "      <td>1.9</td>\n",
              "      <td>0.076</td>\n",
              "      <td>11.0</td>\n",
              "      <td>34.0</td>\n",
              "      <td>0.9978</td>\n",
              "      <td>3.51</td>\n",
              "      <td>0.56</td>\n",
              "      <td>9.4</td>\n",
              "    </tr>\n",
              "  </tbody>\n",
              "</table>\n",
              "</div>"
            ],
            "text/plain": [
              "   fixed acidity  volatile acidity  citric acid  ...    pH  sulphates  alcohol\n",
              "0            7.4              0.70         0.00  ...  3.51       0.56      9.4\n",
              "1            7.8              0.88         0.00  ...  3.20       0.68      9.8\n",
              "2            7.8              0.76         0.04  ...  3.26       0.65      9.8\n",
              "3           11.2              0.28         0.56  ...  3.16       0.58      9.8\n",
              "4            7.4              0.70         0.00  ...  3.51       0.56      9.4\n",
              "\n",
              "[5 rows x 11 columns]"
            ]
          },
          "metadata": {
            "tags": []
          },
          "execution_count": 5
        }
      ]
    },
    {
      "cell_type": "code",
      "metadata": {
        "id": "-4NgRDKDpw2V",
        "colab_type": "code",
        "colab": {}
      },
      "source": [
        "from sklearn.model_selection import train_test_split\n",
        "X_train,X_test,y_train,y_test = train_test_split(X,y,test_size=0.2)"
      ],
      "execution_count": 0,
      "outputs": []
    },
    {
      "cell_type": "code",
      "metadata": {
        "id": "pRD-tBrOqD0N",
        "colab_type": "code",
        "colab": {}
      },
      "source": [
        "y_train = y_train.values\n",
        "y_test = y_test.values"
      ],
      "execution_count": 0,
      "outputs": []
    },
    {
      "cell_type": "code",
      "metadata": {
        "id": "37TKwz32p0EM",
        "colab_type": "code",
        "outputId": "792b17c9-95e4-43d8-cf74-790148932ddc",
        "colab": {
          "base_uri": "https://localhost:8080/",
          "height": 51
        }
      },
      "source": [
        "print(y_train)\n",
        "for i in range(0,len(y_train)):\n",
        "  if(y_train[i]>6.5):\n",
        "    y_train[i] = 1\n",
        "  else:\n",
        "    y_train[i] = 0\n",
        "print(y_train)"
      ],
      "execution_count": 0,
      "outputs": [
        {
          "output_type": "stream",
          "text": [
            "[4 5 5 ... 5 6 6]\n",
            "[0 0 0 ... 0 0 0]\n"
          ],
          "name": "stdout"
        }
      ]
    },
    {
      "cell_type": "code",
      "metadata": {
        "id": "QKUvZqhIrxB5",
        "colab_type": "code",
        "outputId": "f5113ed3-0138-4757-9154-960def87ae13",
        "colab": {
          "base_uri": "https://localhost:8080/",
          "height": 323
        }
      },
      "source": [
        "print(y_test)\n",
        "for i in range(0,len(y_test)):\n",
        "  if(y_test[i]>6.5):\n",
        "    y_test[i] = 1\n",
        "  else:\n",
        "    y_test[i] = 0\n",
        "print(y_test)"
      ],
      "execution_count": 0,
      "outputs": [
        {
          "output_type": "stream",
          "text": [
            "[6 5 5 6 6 6 5 6 5 5 6 6 7 7 5 6 5 7 6 6 6 6 4 6 5 5 5 6 5 5 6 3 7 6 7 6 4\n",
            " 6 5 5 6 4 6 5 6 6 8 6 8 7 6 7 6 6 6 5 6 6 6 5 5 3 5 5 5 6 5 5 5 6 6 6 6 7\n",
            " 6 7 5 5 6 6 6 5 6 4 6 5 5 5 5 5 7 6 7 6 7 5 5 7 5 6 7 6 6 5 6 6 7 5 5 7 5\n",
            " 6 6 5 6 5 5 4 6 7 5 5 6 6 7 6 5 6 5 6 7 7 6 5 5 6 6 5 5 7 6 4 6 5 5 5 5 6\n",
            " 5 5 6 5 5 6 5 6 5 5 6 6 5 5 5 6 6 7 6 5 5 5 5 7 5 5 4 5 6 5 6 6 6 6 6 6 6\n",
            " 5 6 6 5 6 7 6 4 5 6 5 6 6 6 5 5 5 5 6 6 7 5 5 4 5 6 6 3 7 6 5 6 6 5 6 6 6\n",
            " 5 6 4 5 6 6 6 7 6 5 6 6 6 5 4 5 5 5 5 6 6 5 5 5 7 5 7 7 6 5 5 6 5 5 6 7 5\n",
            " 6 7 6 5 7 6 5 7 5 5 5 6 6 6 5 5 6 6 5 5 6 5 7 5 6 5 5 5 5 6 5 5 5 6 5 4 5\n",
            " 6 5 5 5 5 5 6 7 6 6 5 6 7 5 5 5 6 5 6 5 5 5 6 5]\n",
            "[0 0 0 0 0 0 0 0 0 0 0 0 1 1 0 0 0 1 0 0 0 0 0 0 0 0 0 0 0 0 0 0 1 0 1 0 0\n",
            " 0 0 0 0 0 0 0 0 0 1 0 1 1 0 1 0 0 0 0 0 0 0 0 0 0 0 0 0 0 0 0 0 0 0 0 0 1\n",
            " 0 1 0 0 0 0 0 0 0 0 0 0 0 0 0 0 1 0 1 0 1 0 0 1 0 0 1 0 0 0 0 0 1 0 0 1 0\n",
            " 0 0 0 0 0 0 0 0 1 0 0 0 0 1 0 0 0 0 0 1 1 0 0 0 0 0 0 0 1 0 0 0 0 0 0 0 0\n",
            " 0 0 0 0 0 0 0 0 0 0 0 0 0 0 0 0 0 1 0 0 0 0 0 1 0 0 0 0 0 0 0 0 0 0 0 0 0\n",
            " 0 0 0 0 0 1 0 0 0 0 0 0 0 0 0 0 0 0 0 0 1 0 0 0 0 0 0 0 1 0 0 0 0 0 0 0 0\n",
            " 0 0 0 0 0 0 0 1 0 0 0 0 0 0 0 0 0 0 0 0 0 0 0 0 1 0 1 1 0 0 0 0 0 0 0 1 0\n",
            " 0 1 0 0 1 0 0 1 0 0 0 0 0 0 0 0 0 0 0 0 0 0 1 0 0 0 0 0 0 0 0 0 0 0 0 0 0\n",
            " 0 0 0 0 0 0 0 1 0 0 0 0 1 0 0 0 0 0 0 0 0 0 0 0]\n"
          ],
          "name": "stdout"
        }
      ]
    },
    {
      "cell_type": "code",
      "metadata": {
        "id": "1t-AUNAKqNGA",
        "colab_type": "code",
        "colab": {}
      },
      "source": [
        "from sklearn.preprocessing import StandardScaler\n",
        "scaler = StandardScaler()\n",
        "X_train = scaler.fit_transform(X_train)\n",
        "X_test = scaler.fit_transform(X_test)"
      ],
      "execution_count": 0,
      "outputs": []
    },
    {
      "cell_type": "code",
      "metadata": {
        "id": "tfCszvmksVL3",
        "colab_type": "code",
        "outputId": "a5699b46-75bc-4a5b-cb98-8029757be053",
        "colab": {
          "base_uri": "https://localhost:8080/",
          "height": 34
        }
      },
      "source": [
        "from keras.models import Sequential\n",
        "from keras.layers import Dense"
      ],
      "execution_count": 0,
      "outputs": [
        {
          "output_type": "stream",
          "text": [
            "Using TensorFlow backend.\n"
          ],
          "name": "stderr"
        }
      ]
    },
    {
      "cell_type": "code",
      "metadata": {
        "id": "315YUql9sZ3J",
        "colab_type": "code",
        "colab": {}
      },
      "source": [
        "model = Sequential()\n",
        "\n",
        "model.add(Dense(16,activation='relu',input_dim = 11))\n",
        "model.add(Dense(32,activation='sigmoid'))\n",
        "model.add(Dense(64,activation='relu'))\n",
        "model.add(Dense(64,activation='sigmoid'))\n",
        "model.add(Dense(128,activation='relu'))\n",
        "model.add(Dense(1,activation='sigmoid'))"
      ],
      "execution_count": 0,
      "outputs": []
    },
    {
      "cell_type": "code",
      "metadata": {
        "id": "vQmUnkxwsfnn",
        "colab_type": "code",
        "outputId": "c0b03493-7f29-405e-b548-a01eea8d2af1",
        "colab": {
          "base_uri": "https://localhost:8080/",
          "height": 357
        }
      },
      "source": [
        "model.summary()"
      ],
      "execution_count": 0,
      "outputs": [
        {
          "output_type": "stream",
          "text": [
            "Model: \"sequential_1\"\n",
            "_________________________________________________________________\n",
            "Layer (type)                 Output Shape              Param #   \n",
            "=================================================================\n",
            "dense_1 (Dense)              (None, 16)                192       \n",
            "_________________________________________________________________\n",
            "dense_2 (Dense)              (None, 32)                544       \n",
            "_________________________________________________________________\n",
            "dense_3 (Dense)              (None, 64)                2112      \n",
            "_________________________________________________________________\n",
            "dense_4 (Dense)              (None, 64)                4160      \n",
            "_________________________________________________________________\n",
            "dense_5 (Dense)              (None, 128)               8320      \n",
            "_________________________________________________________________\n",
            "dense_6 (Dense)              (None, 1)                 129       \n",
            "=================================================================\n",
            "Total params: 15,457\n",
            "Trainable params: 15,457\n",
            "Non-trainable params: 0\n",
            "_________________________________________________________________\n"
          ],
          "name": "stdout"
        }
      ]
    },
    {
      "cell_type": "code",
      "metadata": {
        "id": "ZdCn34mVsiit",
        "colab_type": "code",
        "colab": {}
      },
      "source": [
        "model.compile(\n",
        "    optimizer = 'adam',\n",
        "    loss = \"binary_crossentropy\",\n",
        "    metrics = ['accuracy'],\n",
        ")"
      ],
      "execution_count": 0,
      "outputs": []
    },
    {
      "cell_type": "code",
      "metadata": {
        "id": "YQnsj76msm4-",
        "colab_type": "code",
        "outputId": "49841384-5b14-4c8e-9196-54bafa820bf6",
        "colab": {
          "base_uri": "https://localhost:8080/",
          "height": 1000
        }
      },
      "source": [
        "model.fit(\n",
        "    X_train,\n",
        "    y_train,\n",
        "    validation_data=(X_test,y_test),\n",
        "    epochs = 32,\n",
        "    batch_size = 8\n",
        ")"
      ],
      "execution_count": 0,
      "outputs": [
        {
          "output_type": "stream",
          "text": [
            "Train on 1279 samples, validate on 320 samples\n",
            "Epoch 1/32\n",
            "1279/1279 [==============================] - 1s 557us/step - loss: 0.4154 - accuracy: 0.8468 - val_loss: 0.3362 - val_accuracy: 0.8781\n",
            "Epoch 2/32\n",
            "1279/1279 [==============================] - 0s 226us/step - loss: 0.3093 - accuracy: 0.8655 - val_loss: 0.2469 - val_accuracy: 0.8875\n",
            "Epoch 3/32\n",
            "1279/1279 [==============================] - 0s 193us/step - loss: 0.2956 - accuracy: 0.8702 - val_loss: 0.2376 - val_accuracy: 0.9000\n",
            "Epoch 4/32\n",
            "1279/1279 [==============================] - 0s 193us/step - loss: 0.2878 - accuracy: 0.8647 - val_loss: 0.2317 - val_accuracy: 0.8813\n",
            "Epoch 5/32\n",
            "1279/1279 [==============================] - 0s 205us/step - loss: 0.2850 - accuracy: 0.8686 - val_loss: 0.2351 - val_accuracy: 0.8906\n",
            "Epoch 6/32\n",
            "1279/1279 [==============================] - 0s 191us/step - loss: 0.2877 - accuracy: 0.8812 - val_loss: 0.2297 - val_accuracy: 0.8844\n",
            "Epoch 7/32\n",
            "1279/1279 [==============================] - 0s 192us/step - loss: 0.2827 - accuracy: 0.8757 - val_loss: 0.2538 - val_accuracy: 0.8875\n",
            "Epoch 8/32\n",
            "1279/1279 [==============================] - 0s 190us/step - loss: 0.2803 - accuracy: 0.8733 - val_loss: 0.2328 - val_accuracy: 0.8969\n",
            "Epoch 9/32\n",
            "1279/1279 [==============================] - 0s 233us/step - loss: 0.2768 - accuracy: 0.8733 - val_loss: 0.2219 - val_accuracy: 0.8906\n",
            "Epoch 10/32\n",
            "1279/1279 [==============================] - 0s 232us/step - loss: 0.2789 - accuracy: 0.8741 - val_loss: 0.2255 - val_accuracy: 0.9000\n",
            "Epoch 11/32\n",
            "1279/1279 [==============================] - 0s 213us/step - loss: 0.2756 - accuracy: 0.8780 - val_loss: 0.2323 - val_accuracy: 0.8906\n",
            "Epoch 12/32\n",
            "1279/1279 [==============================] - 0s 208us/step - loss: 0.2770 - accuracy: 0.8702 - val_loss: 0.2341 - val_accuracy: 0.8781\n",
            "Epoch 13/32\n",
            "1279/1279 [==============================] - 0s 228us/step - loss: 0.2728 - accuracy: 0.8718 - val_loss: 0.2160 - val_accuracy: 0.9000\n",
            "Epoch 14/32\n",
            "1279/1279 [==============================] - 0s 217us/step - loss: 0.2724 - accuracy: 0.8749 - val_loss: 0.2183 - val_accuracy: 0.8969\n",
            "Epoch 15/32\n",
            "1279/1279 [==============================] - 0s 223us/step - loss: 0.2665 - accuracy: 0.8710 - val_loss: 0.2457 - val_accuracy: 0.8938\n",
            "Epoch 16/32\n",
            "1279/1279 [==============================] - 0s 226us/step - loss: 0.2686 - accuracy: 0.8710 - val_loss: 0.2227 - val_accuracy: 0.8969\n",
            "Epoch 17/32\n",
            "1279/1279 [==============================] - 0s 215us/step - loss: 0.2663 - accuracy: 0.8741 - val_loss: 0.2252 - val_accuracy: 0.9000\n",
            "Epoch 18/32\n",
            "1279/1279 [==============================] - 0s 202us/step - loss: 0.2669 - accuracy: 0.8765 - val_loss: 0.2144 - val_accuracy: 0.8938\n",
            "Epoch 19/32\n",
            "1279/1279 [==============================] - 0s 188us/step - loss: 0.2619 - accuracy: 0.8765 - val_loss: 0.2306 - val_accuracy: 0.8906\n",
            "Epoch 20/32\n",
            "1279/1279 [==============================] - 0s 218us/step - loss: 0.2650 - accuracy: 0.8686 - val_loss: 0.2296 - val_accuracy: 0.9000\n",
            "Epoch 21/32\n",
            "1279/1279 [==============================] - 0s 218us/step - loss: 0.2617 - accuracy: 0.8749 - val_loss: 0.2321 - val_accuracy: 0.8938\n",
            "Epoch 22/32\n",
            "1279/1279 [==============================] - 0s 200us/step - loss: 0.2586 - accuracy: 0.8812 - val_loss: 0.2155 - val_accuracy: 0.9062\n",
            "Epoch 23/32\n",
            "1279/1279 [==============================] - 0s 189us/step - loss: 0.2596 - accuracy: 0.8866 - val_loss: 0.2183 - val_accuracy: 0.8875\n",
            "Epoch 24/32\n",
            "1279/1279 [==============================] - 0s 198us/step - loss: 0.2599 - accuracy: 0.8804 - val_loss: 0.2128 - val_accuracy: 0.8969\n",
            "Epoch 25/32\n",
            "1279/1279 [==============================] - 0s 193us/step - loss: 0.2545 - accuracy: 0.8757 - val_loss: 0.2115 - val_accuracy: 0.8969\n",
            "Epoch 26/32\n",
            "1279/1279 [==============================] - 0s 195us/step - loss: 0.2575 - accuracy: 0.8827 - val_loss: 0.2111 - val_accuracy: 0.8969\n",
            "Epoch 27/32\n",
            "1279/1279 [==============================] - 0s 186us/step - loss: 0.2512 - accuracy: 0.8858 - val_loss: 0.2535 - val_accuracy: 0.8781\n",
            "Epoch 28/32\n",
            "1279/1279 [==============================] - 0s 219us/step - loss: 0.2542 - accuracy: 0.8749 - val_loss: 0.2094 - val_accuracy: 0.9000\n",
            "Epoch 29/32\n",
            "1279/1279 [==============================] - 0s 229us/step - loss: 0.2521 - accuracy: 0.8804 - val_loss: 0.2246 - val_accuracy: 0.9000\n",
            "Epoch 30/32\n",
            "1279/1279 [==============================] - 0s 233us/step - loss: 0.2514 - accuracy: 0.8827 - val_loss: 0.2137 - val_accuracy: 0.9062\n",
            "Epoch 31/32\n",
            "1279/1279 [==============================] - 0s 236us/step - loss: 0.2473 - accuracy: 0.8858 - val_loss: 0.2192 - val_accuracy: 0.8969\n",
            "Epoch 32/32\n",
            "1279/1279 [==============================] - 0s 226us/step - loss: 0.2469 - accuracy: 0.8835 - val_loss: 0.2297 - val_accuracy: 0.9031\n"
          ],
          "name": "stdout"
        },
        {
          "output_type": "execute_result",
          "data": {
            "text/plain": [
              "<keras.callbacks.callbacks.History at 0x7f90ac8d99b0>"
            ]
          },
          "metadata": {
            "tags": []
          },
          "execution_count": 15
        }
      ]
    },
    {
      "cell_type": "code",
      "metadata": {
        "id": "oHdooHEGs0VT",
        "colab_type": "code",
        "outputId": "da8205f0-389f-4d50-8c79-2ab7ddf9e8f7",
        "colab": {
          "base_uri": "https://localhost:8080/",
          "height": 282
        }
      },
      "source": [
        "pd.DataFrame(model.history.history).plot()"
      ],
      "execution_count": 0,
      "outputs": [
        {
          "output_type": "execute_result",
          "data": {
            "text/plain": [
              "<matplotlib.axes._subplots.AxesSubplot at 0x7f90a56879b0>"
            ]
          },
          "metadata": {
            "tags": []
          },
          "execution_count": 16
        },
        {
          "output_type": "display_data",
          "data": {
            "image/png": "[encoded data removed]",
            "text/plain": [
              "<Figure size 432x288 with 1 Axes>"
            ]
          },
          "metadata": {
            "tags": [],
            "needs_background": "light"
          }
        }
      ]
    },
    {
      "cell_type": "code",
      "metadata": {
        "id": "C4645vEFuzAp",
        "colab_type": "code",
        "outputId": "ebff34a5-7bc5-4f7d-bff0-685558bbd162",
        "colab": {
          "base_uri": "https://localhost:8080/",
          "height": 51
        }
      },
      "source": [
        "model.evaluate(X_test,y_test)"
      ],
      "execution_count": 0,
      "outputs": [
        {
          "output_type": "stream",
          "text": [
            "320/320 [==============================] - 0s 42us/step\n"
          ],
          "name": "stdout"
        },
        {
          "output_type": "execute_result",
          "data": {
            "text/plain": [
              "[0.22966228723526, 0.903124988079071]"
            ]
          },
          "metadata": {
            "tags": []
          },
          "execution_count": 17
        }
      ]
    },
    {
      "cell_type": "code",
      "metadata": {
        "id": "Lb5MLj7ANVan",
        "colab_type": "code",
        "colab": {}
      },
      "source": [
        "model.save('wine_classifier.h5')"
      ],
      "execution_count": 0,
      "outputs": []
    },
    {
      "cell_type": "code",
      "metadata": {
        "id": "Wu7F4giuN-4h",
        "colab_type": "code",
        "outputId": "f3aecebc-bf1a-4a3c-84ab-377eb0618c9c",
        "colab": {
          "base_uri": "https://localhost:8080/",
          "height": 85
        }
      },
      "source": [
        "from sklearn import svm\n",
        "classifier = svm.SVC(kernel='rbf')\n",
        "classifier.fit(X_train,y_train)"
      ],
      "execution_count": 0,
      "outputs": [
        {
          "output_type": "execute_result",
          "data": {
            "text/plain": [
              "SVC(C=1.0, break_ties=False, cache_size=200, class_weight=None, coef0=0.0,\n",
              "    decision_function_shape='ovr', degree=3, gamma='scale', kernel='rbf',\n",
              "    max_iter=-1, probability=False, random_state=None, shrinking=True,\n",
              "    tol=0.001, verbose=False)"
            ]
          },
          "metadata": {
            "tags": []
          },
          "execution_count": 28
        }
      ]
    },
    {
      "cell_type": "code",
      "metadata": {
        "id": "p-gGlaRxOhQD",
        "colab_type": "code",
        "outputId": "b653d812-e3b5-4854-fd2e-1988c39973fe",
        "colab": {
          "base_uri": "https://localhost:8080/",
          "height": 170
        }
      },
      "source": [
        "y_pred = classifier.predict(X_test)\n",
        "print(y_pred)"
      ],
      "execution_count": 0,
      "outputs": [
        {
          "output_type": "stream",
          "text": [
            "[0 0 0 0 0 0 0 0 0 0 0 0 1 1 0 0 0 0 0 0 0 0 0 0 0 0 0 0 0 0 0 0 1 0 1 0 0\n",
            " 0 0 0 1 0 0 0 0 0 0 0 0 0 0 0 0 0 0 0 0 0 0 0 0 0 0 1 0 0 0 0 0 0 0 0 0 1\n",
            " 0 0 0 0 0 0 0 0 0 0 0 0 0 0 0 0 0 0 0 0 0 0 0 0 0 0 0 0 0 0 0 0 1 0 0 0 0\n",
            " 0 0 0 0 0 0 0 0 0 0 0 0 1 0 0 0 0 0 0 0 1 0 0 0 0 0 0 0 0 0 0 0 0 0 0 0 0\n",
            " 0 0 0 0 0 0 0 0 0 0 0 0 0 0 0 0 0 0 0 0 0 0 0 0 0 0 0 0 0 0 0 0 0 0 0 0 0\n",
            " 0 0 0 0 0 1 0 0 0 0 0 0 0 0 0 0 0 0 0 0 0 0 0 0 0 0 0 0 1 0 0 0 0 0 0 0 0\n",
            " 0 0 0 0 0 0 0 0 0 0 0 0 0 0 0 0 0 0 0 0 0 0 0 0 0 0 1 1 0 0 0 0 0 0 0 0 0\n",
            " 0 1 0 0 0 0 0 0 0 0 0 0 0 0 0 0 0 0 0 0 0 0 0 0 0 0 0 0 0 0 0 0 0 0 0 0 0\n",
            " 0 0 0 0 0 0 0 1 0 0 0 0 0 0 0 0 0 0 0 0 0 0 0 0]\n"
          ],
          "name": "stdout"
        }
      ]
    },
    {
      "cell_type": "code",
      "metadata": {
        "id": "JjHWH6HGOsZ2",
        "colab_type": "code",
        "colab": {}
      },
      "source": [
        "# Python script for confusion matrix creation. \n",
        "from sklearn.metrics import confusion_matrix \n",
        "from sklearn.metrics import accuracy_score \n",
        "from sklearn.metrics import classification_report"
      ],
      "execution_count": 0,
      "outputs": []
    },
    {
      "cell_type": "code",
      "metadata": {
        "id": "VUSMaYIjPYKq",
        "colab_type": "code",
        "outputId": "617a2ab9-30d5-4f56-bc81-d7017f9fca24",
        "colab": {
          "base_uri": "https://localhost:8080/",
          "height": 51
        }
      },
      "source": [
        "results = confusion_matrix(y_test, y_pred)\n",
        "print(results)"
      ],
      "execution_count": 0,
      "outputs": [
        {
          "output_type": "stream",
          "text": [
            "[[278   3]\n",
            " [ 26  13]]\n"
          ],
          "name": "stdout"
        }
      ]
    },
    {
      "cell_type": "code",
      "metadata": {
        "id": "cnYirK5wPikA",
        "colab_type": "code",
        "outputId": "c18e1e46-833c-4347-ab8b-e0291528034c",
        "colab": {
          "base_uri": "https://localhost:8080/",
          "height": 187
        }
      },
      "source": [
        "acc = accuracy_score(y_test, y_pred)\n",
        "rep = classification_report(y_test, y_pred)\n",
        "print(acc)\n",
        "print(rep)"
      ],
      "execution_count": 0,
      "outputs": [
        {
          "output_type": "stream",
          "text": [
            "0.909375\n",
            "              precision    recall  f1-score   support\n",
            "\n",
            "           0       0.91      0.99      0.95       281\n",
            "           1       0.81      0.33      0.47        39\n",
            "\n",
            "    accuracy                           0.91       320\n",
            "   macro avg       0.86      0.66      0.71       320\n",
            "weighted avg       0.90      0.91      0.89       320\n",
            "\n"
          ],
          "name": "stdout"
        }
      ]
    },
    {
      "cell_type": "code",
      "metadata": {
        "id": "XPFjyMqFRq_y",
        "colab_type": "code",
        "colab": {}
      },
      "source": [
        "from sklearn.linear_model import LogisticRegression\n",
        "logReg = LogisticRegression()\n",
        "logReg.fit(X_train,y_train)\n",
        "y_pred = logReg.predict(X_test)"
      ],
      "execution_count": 0,
      "outputs": []
    },
    {
      "cell_type": "code",
      "metadata": {
        "id": "hbmp919bSbLB",
        "colab_type": "code",
        "outputId": "fea08a1d-c000-47a6-c260-f4297b40e46c",
        "colab": {
          "base_uri": "https://localhost:8080/",
          "height": 221
        }
      },
      "source": [
        "results = confusion_matrix(y_test, y_pred)\n",
        "print(results)\n",
        "acc = accuracy_score(y_test, y_pred)\n",
        "rep = classification_report(y_test, y_pred)\n",
        "print(acc)\n",
        "print(rep)"
      ],
      "execution_count": 0,
      "outputs": [
        {
          "output_type": "stream",
          "text": [
            "[[277   4]\n",
            " [ 26  13]]\n",
            "0.90625\n",
            "              precision    recall  f1-score   support\n",
            "\n",
            "           0       0.91      0.99      0.95       281\n",
            "           1       0.76      0.33      0.46        39\n",
            "\n",
            "    accuracy                           0.91       320\n",
            "   macro avg       0.84      0.66      0.71       320\n",
            "weighted avg       0.90      0.91      0.89       320\n",
            "\n"
          ],
          "name": "stdout"
        }
      ]
    }
  ]
}